{
 "cells": [
  {
   "cell_type": "code",
   "execution_count": 1,
   "id": "18a0d8b1",
   "metadata": {},
   "outputs": [
    {
     "name": "stdout",
     "output_type": "stream",
     "text": [
      "My name is Nisha Rashid\n",
      "My Roll no is PIAIC189514\n"
     ]
    }
   ],
   "source": [
    "#1. Assign a message to a variable, and then print that message.\n",
    "\n",
    "name = \"Nisha Rashid\"\n",
    "roll_no = \"PIAIC189514\"\n",
    "\n",
    "print(\"My name is\" , name)\n",
    "print(\"My Roll no is\" , roll_no )"
   ]
  },
  {
   "cell_type": "code",
   "execution_count": 28,
   "id": "69f35f87",
   "metadata": {},
   "outputs": [
    {
     "name": "stdout",
     "output_type": "stream",
     "text": [
      "Mark Twain once said, \n",
      "\"Dont go around saying the world owes you a living. The world owes you nothing. It was here first\"\n"
     ]
    }
   ],
   "source": [
    "#2. Find a quote from a famous person you admire. Print the quote and name of its author.\n",
    "\n",
    "quote ='\"Dont go around saying the world owes you a living. The world owes you nothing. It was here first\"'\n",
    "print(\"Mark Twain once said, \\n\" + quote)"
   ]
  },
  {
   "cell_type": "code",
   "execution_count": 4,
   "id": "6f029eab",
   "metadata": {},
   "outputs": [
    {
     "name": "stdout",
     "output_type": "stream",
     "text": [
      "Enter Of Radius Of Circle\n",
      "25\n",
      "Area Of Circle with Radius 25.0 = 1963.75\n"
     ]
    }
   ],
   "source": [
    "#3. Write a python program which accepts the radius of a circle from the user and compute the area.\n",
    "\n",
    "radius = float(input(\"Enter Of Radius Of Circle\\n\"))\n",
    "area_of_circle = 3.142*radius*radius\n",
    "print(\"Area Of Circle with Radius\" , radius, \"=\", area_of_circle)"
   ]
  },
  {
   "cell_type": "code",
   "execution_count": 5,
   "id": "838cedaf",
   "metadata": {},
   "outputs": [
    {
     "name": "stdout",
     "output_type": "stream",
     "text": [
      "Enter The Number:45\n",
      "Positive Number Entered\n"
     ]
    }
   ],
   "source": [
    "#4. Write a Python program to check if a number is positive, negative or zero.\n",
    "\n",
    "num = int(input(\"Enter The Number:\"))\n",
    "if num < 0:\n",
    "    print(\"Negative Number Entered\")\n",
    "elif num > 0 :\n",
    "    print(\"Positive Number Entered\")\n",
    "else:\n",
    "    print(\"Zero Entered\")"
   ]
  },
  {
   "cell_type": "code",
   "execution_count": 26,
   "id": "36db5c03",
   "metadata": {},
   "outputs": [
    {
     "name": "stdout",
     "output_type": "stream",
     "text": [
      "Enter a Letter: a\n",
      "Letter a is vowel\n"
     ]
    }
   ],
   "source": [
    "#5. Write a Python program to test whether a passed letter is a vowel or not.\n",
    "\n",
    "character=input(\"Enter a Letter: \")\n",
    "vowels=[\"A\",\"a\",\"E\",\"e\",\"I\",\"i\",\"O\",\"o\",\"U\",\"u\"]\n",
    "if character in vowels:\n",
    "    print(\"Letter\", character, \"is vowel\")\n",
    "else:\n",
    "    print(\"Letter\", character, \"is not vowel\")"
   ]
  },
  {
   "cell_type": "code",
   "execution_count": 7,
   "id": "46bad4ff",
   "metadata": {},
   "outputs": [
    {
     "name": "stdout",
     "output_type": "stream",
     "text": [
      "Enter Height in Centimenter\n",
      "45.6\n",
      "Enter Weight in kg\n",
      "40\n",
      "Your Body Mass Index is 192.36688211757462 kg/m^2\n"
     ]
    }
   ],
   "source": [
    "#6. Write a Python program to calculate body mass index.\n",
    "\n",
    "height=float(input(\"Enter Height in Centimenter\\n\"))\n",
    "weight=float(input(\"Enter Weight in kg\\n\"))\n",
    "body_mass_index=weight/(height/100)**2\n",
    "print(\"Your Body Mass Index is\",body_mass_index,\"kg/m^2\") "
   ]
  },
  {
   "cell_type": "code",
   "execution_count": 8,
   "id": "d8cae838",
   "metadata": {},
   "outputs": [
    {
     "name": "stdout",
     "output_type": "stream",
     "text": [
      "Aqsa\n",
      "Farheen\n",
      "Fatima\n",
      "Faryal\n",
      "Zahida\n"
     ]
    }
   ],
   "source": [
    "#7. Store the names of a few of your friends in a list called names.\n",
    "#Print each person’s name by accessing each element in the list, one at a time.\n",
    "\n",
    "names_of_friends=[\"Aqsa\", \"Farheen\", \"Fatima\", \"Faryal\", \"Zahida\" ]\n",
    "print(names_of_friends[0])\n",
    "print(names_of_friends[1])\n",
    "print(names_of_friends[2])\n",
    "print(names_of_friends[3])\n",
    "print(names_of_friends[4])"
   ]
  },
  {
   "cell_type": "code",
   "execution_count": 9,
   "id": "7a546813",
   "metadata": {},
   "outputs": [
    {
     "name": "stdout",
     "output_type": "stream",
     "text": [
      "Aqsa You are my good friend\n",
      "Farheen You are my good friend\n",
      "Fatima You are my good friend\n",
      "Faryal You are my good friend\n",
      "Zahida You are my good friend\n"
     ]
    }
   ],
   "source": [
    "#8. Start with the list you used in above Question , but instead of just printing each person’s name, print a message to \n",
    "#them.The text of each message should be the same, but each message should be personalized with the person’s name.\n",
    "\n",
    "names_of_friends=[\"Aqsa\", \"Farheen\", \"Fatima\", \"Faryal\", \"Zahida\" ]\n",
    "print(names_of_friends[0], \"You are my good friend\")\n",
    "print(names_of_friends[1], \"You are my good friend\")\n",
    "print(names_of_friends[2], \"You are my good friend\")\n",
    "print(names_of_friends[3], \"You are my good friend\")\n",
    "print(names_of_friends[4], \"You are my good friend\")"
   ]
  },
  {
   "cell_type": "code",
   "execution_count": 12,
   "id": "30b89c74",
   "metadata": {},
   "outputs": [
    {
     "name": "stdout",
     "output_type": "stream",
     "text": [
      "The first three items in the food list are : ['Biryani', 'Pulao', 'Chicken Karahi']\n",
      "The middle three items in the food list are : ['Nihari', 'Chinese', 'Qorma']\n",
      "The last three items in the food list are : ['Fish', 'Malai Boti', 'Zinger']\n"
     ]
    }
   ],
   "source": [
    "#9. Make a python program that conatains your nine favourite dishes in a list called foods.Print first three items, middle\n",
    "# three items and last three items from the list.\n",
    "\n",
    "Foods=[\"Biryani\", \"Pulao\", \"Chicken Karahi\", \"Nihari\", \"Chinese\", \"Qorma\", \"Fish\", \"Malai Boti\", \"Zinger\"]\n",
    "print(\"The first three items in the food list are :\", Foods[:3])\n",
    "print(\"The middle three items in the food list are :\", Foods[3:6])\n",
    "print(\"The last three items in the food list are :\", Foods[-3:])"
   ]
  },
  {
   "cell_type": "code",
   "execution_count": 22,
   "id": "30f78f0e",
   "metadata": {},
   "outputs": [
    {
     "name": "stdout",
     "output_type": "stream",
     "text": [
      "My Food \n",
      "\n",
      "My Favorite Foods are :  Biryani\n",
      "My Favorite Foods are :  Pulao\n",
      "My Favorite Foods are :  Chicken Karahi\n",
      "My Favorite Foods are :  Nihari\n",
      "My Favorite Foods are :  Chinese\n",
      "My Favorite Foods are :  Qorma\n",
      "My Favorite Foods are :  Fish\n",
      "My Favorite Foods are :  Malai Boti\n",
      "My Favorite Foods are :  Zinger\n",
      "My Favorite Foods are :  Tikka\n",
      "\n",
      "My Friends Food\n",
      "\n",
      "My Friend's favorite foods are : Biryani\n",
      "My Friend's favorite foods are : Pulao\n",
      "My Friend's favorite foods are : Chicken Karahi\n",
      "My Friend's favorite foods are : Nihari\n",
      "My Friend's favorite foods are : Chinese\n",
      "My Friend's favorite foods are : Qorma\n",
      "My Friend's favorite foods are : Fish\n",
      "My Friend's favorite foods are : Malai Boti\n",
      "My Friend's favorite foods are : Zinger\n",
      "My Friend's favorite foods are : Roll\n"
     ]
    }
   ],
   "source": [
    "#10. Start with your program from your last Question8. Make a copy of the list of foods, and call it friend_foods. \n",
    "# Then, do the following:\n",
    "# Add a new dish to the original list. Add a different dish to the list friend_foods.\n",
    "# Prove that you have two separate lists.\n",
    "# Print the message, My favorite pizzas are: and then use a for loop to print the first list.\n",
    "# Print the message, My friend’s favorite foods are:, and then use a for loop to print the second list.\n",
    "\n",
    "Foods=[\"Biryani\", \"Pulao\", \"Chicken Karahi\", \"Nihari\", \"Chinese\", \"Qorma\", \"Fish\", \"Malai Boti\", \"Zinger\"]\n",
    "Friend_Foods=[\"Biryani\", \"Pulao\", \"Chicken Karahi\", \"Nihari\", \"Chinese\", \"Qorma\", \"Fish\", \"Malai Boti\", \"Zinger\"]\n",
    "Foods.append(\"Tikka\")\n",
    "Friend_Foods.append(\"Roll\")\n",
    "print(\"My Food \" + \"\\n\")\n",
    "for food in Foods:\n",
    "    print(\"My Favorite Foods are : \",food)\n",
    "print(\"\\n\" + \"My Friends Food\" + \"\\n\")\n",
    "for Friend_Food in Friend_Foods:\n",
    "    print(\"My Friend's favorite foods are :\", Friend_Food)"
   ]
  },
  {
   "cell_type": "code",
   "execution_count": null,
   "id": "8be780a3",
   "metadata": {},
   "outputs": [],
   "source": []
  }
 ],
 "metadata": {
  "kernelspec": {
   "display_name": "Python 3 (ipykernel)",
   "language": "python",
   "name": "python3"
  },
  "language_info": {
   "codemirror_mode": {
    "name": "ipython",
    "version": 3
   },
   "file_extension": ".py",
   "mimetype": "text/x-python",
   "name": "python",
   "nbconvert_exporter": "python",
   "pygments_lexer": "ipython3",
   "version": "3.9.12"
  }
 },
 "nbformat": 4,
 "nbformat_minor": 5
}
